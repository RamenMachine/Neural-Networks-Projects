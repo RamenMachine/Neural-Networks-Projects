{
 "cells": [
  {
   "cell_type": "code",
   "execution_count": 3,
   "id": "5bc7769e",
   "metadata": {},
   "outputs": [],
   "source": [
    "# Lab 3 - MNIST Perceptron (Binary Classification: 0 vs 1)\n",
    "import gzip\n",
    "import os\n",
    "import struct\n",
    "import numpy as np\n",
    "import matplotlib.pyplot as plt\n",
    "\n",
    "# Dataset folder and file constants\n",
    "DATASET_FOLDER = 'mnist_data'\n",
    "TRAIN_IMAGES_FILE = os.path.join(DATASET_FOLDER, 'train-images-idx3-ubyte.gz')\n",
    "TRAIN_LABELS_FILE = os.path.join(DATASET_FOLDER, 'train-labels-idx1-ubyte.gz')\n",
    "TEST_IMAGES_FILE = os.path.join(DATASET_FOLDER, 't10k-images-idx3-ubyte.gz')\n",
    "TEST_LABELS_FILE = os.path.join(DATASET_FOLDER, 't10k-labels-idx1-ubyte.gz')\n",
    "\n",
    "NROWS, NCOLS = 28, 28"
   ]
  },
  {
   "cell_type": "code",
   "execution_count": 4,
   "id": "2d6d483b",
   "metadata": {},
   "outputs": [
    {
     "name": "stdout",
     "output_type": "stream",
     "text": [
      "IDX files not found, using tf.keras.datasets.mnist\n",
      "Q1 - Data shapes:\n",
      "trainIms: (60000, 28, 28), trainLbs: (60000,)\n",
      "testIms: (10000, 28, 28), testLbs: (10000,)\n"
     ]
    }
   ],
   "source": [
    "def loadData():\n",
    "    # Use tf.keras.datasets.mnist as backup when IDX files not available\n",
    "    try:\n",
    "        def readIdxImages(filename):\n",
    "            with gzip.open(filename, 'rb') as f:\n",
    "                magic, numImages, rows, cols = struct.unpack('>IIII', f.read(16))\n",
    "                images = np.frombuffer(f.read(), dtype=np.uint8)\n",
    "                return images.reshape(numImages, rows, cols)\n",
    "        \n",
    "        def readIdxLabels(filename):\n",
    "            with gzip.open(filename, 'rb') as f:\n",
    "                magic, numLabels = struct.unpack('>II', f.read(8))\n",
    "                labels = np.frombuffer(f.read(), dtype=np.uint8)\n",
    "                return labels\n",
    "        \n",
    "        trainIms = readIdxImages(TRAIN_IMAGES_FILE)\n",
    "        trainLbs = readIdxLabels(TRAIN_LABELS_FILE)\n",
    "        testIms = readIdxImages(TEST_IMAGES_FILE)\n",
    "        testLbs = readIdxLabels(TEST_LABELS_FILE)\n",
    "        print(\"Loaded from IDX files\")\n",
    "        \n",
    "    except FileNotFoundError:\n",
    "        print(\"IDX files not found, using tf.keras.datasets.mnist\")\n",
    "        import tensorflow as tf\n",
    "        (trainIms, trainLbs), (testIms, testLbs) = tf.keras.datasets.mnist.load_data()\n",
    "    \n",
    "    return trainIms, trainLbs, testIms, testLbs\n",
    "\n",
    "# Q1: Load data and print shapes\n",
    "trainIms, trainLbs, testIms, testLbs = loadData()\n",
    "print(f\"Q1 - Data shapes:\")\n",
    "print(f\"trainIms: {trainIms.shape}, trainLbs: {trainLbs.shape}\")\n",
    "print(f\"testIms: {testIms.shape}, testLbs: {testLbs.shape}\")"
   ]
  },
  {
   "cell_type": "code",
   "execution_count": 5,
   "id": "0fb9b1a9",
   "metadata": {},
   "outputs": [
    {
     "data": {
      "image/png": "[encoded data removed]",
      "text/plain": [
       "<Figure size 400x400 with 1 Axes>"
      ]
     },
     "metadata": {},
     "output_type": "display_data"
    },
    {
     "name": "stdout",
     "output_type": "stream",
     "text": [
      "Q2 - Sample image label: 5\n"
     ]
    }
   ],
   "source": [
    "# Q2: Display sample image + label\n",
    "sampleIdx = 0\n",
    "plt.figure(figsize=(4, 4))\n",
    "plt.imshow(trainIms[sampleIdx], cmap='gray')\n",
    "plt.title(f'Label: {trainLbs[sampleIdx]}')\n",
    "plt.axis('off')\n",
    "plt.show()\n",
    "print(f\"Q2 - Sample image label: {trainLbs[sampleIdx]}\")"
   ]
  },
  {
   "cell_type": "code",
   "execution_count": 6,
   "id": "4582b0cd",
   "metadata": {},
   "outputs": [
    {
     "name": "stdout",
     "output_type": "stream",
     "text": [
      "Q4 - Filtered training: 12665 samples\n",
      "Q5 - Filtered test: 2115 samples\n"
     ]
    }
   ],
   "source": [
    "# Q4/Q5: Filter to classes {0,1} \n",
    "trainMask = (trainLbs == 0) | (trainLbs == 1)\n",
    "testMask = (testLbs == 0) | (testLbs == 1)\n",
    "\n",
    "trainIms = trainIms[trainMask]\n",
    "trainLbs = trainLbs[trainMask]\n",
    "testIms = testIms[testMask]\n",
    "testLbs = testLbs[testMask]\n",
    "\n",
    "print(f\"Q4 - Filtered training: {trainIms.shape[0]} samples\")\n",
    "print(f\"Q5 - Filtered test: {testIms.shape[0]} samples\")"
   ]
  },
  {
   "cell_type": "code",
   "execution_count": 7,
   "id": "9e090b01",
   "metadata": {},
   "outputs": [
    {
     "name": "stdout",
     "output_type": "stream",
     "text": [
      "Q6 - Train split: 10132 samples\n",
      "Q6 - Validation split: 2533 samples\n",
      "Q7 - Converted to float32\n",
      "Q8 - Labels converted to {-1, +1}\n"
     ]
    }
   ],
   "source": [
    "# Q6: Split training into 80% train, 20% validation\n",
    "splitIdx = int(0.8 * len(trainIms))\n",
    "valIms = trainIms[splitIdx:]\n",
    "valLbs = trainLbs[splitIdx:]\n",
    "trainIms = trainIms[:splitIdx]\n",
    "trainLbs = trainLbs[:splitIdx]\n",
    "\n",
    "print(f\"Q6 - Train split: {trainIms.shape[0]} samples\")\n",
    "print(f\"Q6 - Validation split: {valIms.shape[0]} samples\")\n",
    "\n",
    "# Q7: Convert to float32\n",
    "trainIms = trainIms.astype(np.float32)\n",
    "valIms = valIms.astype(np.float32)  \n",
    "testIms = testIms.astype(np.float32)\n",
    "trainLbs = trainLbs.astype(np.float32)\n",
    "valLbs = valLbs.astype(np.float32)\n",
    "testLbs = testLbs.astype(np.float32)\n",
    "print(\"Q7 - Converted to float32\")\n",
    "\n",
    "# Q8: Convert labels {0,1} → {-1,1}\n",
    "trainLbs = 2 * trainLbs - 1\n",
    "valLbs = 2 * valLbs - 1\n",
    "testLbs = 2 * testLbs - 1\n",
    "print(\"Q8 - Labels converted to {-1, +1}\")"
   ]
  },
  {
   "cell_type": "code",
   "execution_count": 8,
   "id": "cb0fbb15",
   "metadata": {},
   "outputs": [
    {
     "name": "stdout",
     "output_type": "stream",
     "text": [
      "Q10 - Learning rate eta: 0.1\n",
      "Q9 - Training progress:\n",
      "Step 100: Validation accuracy = 0.9787\n",
      "Q11 - Early stopping at step: 100\n"
     ]
    }
   ],
   "source": [
    "weights = np.random.normal(0.0, 1.0, size=(NROWS * NCOLS,))\n",
    "eta = 0.1\n",
    "print(f\"Q10 - Learning rate eta: {eta}\")\n",
    "\n",
    "trainImsFlat = trainIms.reshape(-1, NROWS * NCOLS)\n",
    "valImsFlat = valIms.reshape(-1, NROWS * NCOLS)\n",
    "testImsFlat = testIms.reshape(-1, NROWS * NCOLS)\n",
    "\n",
    "numTrainingSamples = len(trainIms)\n",
    "numValSamples = len(valIms)\n",
    "\n",
    "# Q9/Q11: Training loop with validation tracking\n",
    "print(\"Q9 - Training progress:\")\n",
    "step = 0\n",
    "bestValAcc = 0.0\n",
    "terminatingStep = -1\n",
    "\n",
    "for epoch in range(100):\n",
    "    for i in range(numTrainingSamples):\n",
    "        x = trainImsFlat[i]\n",
    "        yTrue = trainLbs[i]\n",
    "        \n",
    "        yPred = np.sign(np.dot(weights, x))\n",
    "        if yPred == 0:\n",
    "            yPred = 1\n",
    "        \n",
    "        if yPred != yTrue:\n",
    "            weights += eta * yTrue * x\n",
    "        \n",
    "        step += 1\n",
    "        \n",
    "        if step % 100 == 0:\n",
    "            valCorrect = 0\n",
    "            for j in range(numValSamples):\n",
    "                valX = valImsFlat[j]\n",
    "                valYTrue = valLbs[j]\n",
    "                valYPred = np.sign(np.dot(weights, valX))\n",
    "                if valYPred == 0:\n",
    "                    valYPred = 1\n",
    "                if valYPred == valYTrue:\n",
    "                    valCorrect += 1\n",
    "            \n",
    "            valAcc = valCorrect / numValSamples\n",
    "            print(f\"Step {step}: Validation accuracy = {valAcc:.4f}\")\n",
    "            \n",
    "            if valAcc >= 0.90 and terminatingStep == -1:\n",
    "                terminatingStep = step\n",
    "                print(f\"Q11 - Early stopping at step: {terminatingStep}\")\n",
    "                break\n",
    "    \n",
    "    if terminatingStep != -1:\n",
    "        break"
   ]
  },
  {
   "cell_type": "code",
   "execution_count": 9,
   "id": "4631fca3",
   "metadata": {},
   "outputs": [
    {
     "name": "stdout",
     "output_type": "stream",
     "text": [
      "Q12 - Test accuracy: 0.9882\n"
     ]
    },
    {
     "data": {
      "image/png": "[encoded data removed]",
      "text/plain": [
       "<Figure size 600x600 with 2 Axes>"
      ]
     },
     "metadata": {},
     "output_type": "display_data"
    },
    {
     "name": "stdout",
     "output_type": "stream",
     "text": [
      "Q14 - The weight image shows the perceptron learned to distinguish digit shape patterns.\n"
     ]
    }
   ],
   "source": [
    "# Q12: Test evaluation\n",
    "testCorrect = 0\n",
    "numTestSamples = len(testIms)\n",
    "\n",
    "for i in range(numTestSamples):\n",
    "    testX = testImsFlat[i]\n",
    "    testYTrue = testLbs[i]\n",
    "    testYPred = np.sign(np.dot(weights, testX))\n",
    "    if testYPred == 0:\n",
    "        testYPred = 1\n",
    "    if testYPred == testYTrue:\n",
    "        testCorrect += 1\n",
    "\n",
    "testAcc = testCorrect / numTestSamples\n",
    "print(f\"Q12 - Test accuracy: {testAcc:.4f}\")\n",
    "\n",
    "# Q13: Visualize learned weights\n",
    "weightsImage = weights.reshape(NROWS, NCOLS)\n",
    "weightsNorm = (weightsImage - weightsImage.min()) / (weightsImage.max() - weightsImage.min())\n",
    "\n",
    "plt.figure(figsize=(6, 6))\n",
    "plt.imshow(weightsNorm, cmap='gray')\n",
    "plt.colorbar()\n",
    "plt.title('Learned Perceptron Weights')\n",
    "plt.show()\n",
    "\n",
    "# Q14: Comment on weight pattern\n",
    "print(\"Q14 - The weight image shows the perceptron learned to distinguish digit shape patterns.\")"
   ]
  }
 ],
 "metadata": {
  "kernelspec": {
   "display_name": "Python 3",
   "language": "python",
   "name": "python3"
  },
  "language_info": {
   "codemirror_mode": {
    "name": "ipython",
    "version": 3
   },
   "file_extension": ".py",
   "mimetype": "text/x-python",
   "name": "python",
   "nbconvert_exporter": "python",
   "pygments_lexer": "ipython3",
   "version": "3.13.8"
  }
 },
 "nbformat": 4,
 "nbformat_minor": 5
}
